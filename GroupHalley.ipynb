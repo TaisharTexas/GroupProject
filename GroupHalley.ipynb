{
 "cells": [
  {
   "cell_type": "markdown",
   "metadata": {},
   "source": [
    "### Location and World Map\n",
    "\n",
    "My idea is to have an inheritence structure of sorts. 3 different kinds of location types on the world map (pickup, dropoff, and regular)"
   ]
  },
  {
   "cell_type": "code",
   "execution_count": 1,
   "metadata": {},
   "outputs": [],
   "source": [
    "# Drop off Location...can be occupied or not, also has a storage capacity for blocks that agents can dump into\n",
    "class DropoffLoc:\n",
    "    dropoffSlots = 0\n",
    "    occupied = False\n",
    "    reward = 13\n",
    "\n",
    "    def __init__(self, occupied, numSlots):\n",
    "        self.occupied = occupied\n",
    "        self.dropoffSlots = numSlots\n",
    "\n",
    "    def isOccupied(self):\n",
    "        return self.occupied\n",
    "\n",
    "# Pickup Location...can be occupied or not, also has a stash of blocks that agents can take\n",
    "class PickupLoc:\n",
    "    numBlocks = 0\n",
    "    occupied = False\n",
    "    reward = 13\n",
    "\n",
    "    def __init__(self, occupied, numBlocks):\n",
    "        self.occupied = occupied\n",
    "        self.numBlocks = numBlocks\n",
    "\n",
    "    def isOccupied(self):\n",
    "        return self.occupied\n",
    "\n",
    "# Regular Location...can either be occupied or not\n",
    "class RegularLoc:\n",
    "    occupied = False\n",
    "    reward = -1\n",
    "\n",
    "    def __init__(self, occupied):\n",
    "        self.occupied = occupied\n",
    "    \n",
    "    def isOccupied(self):\n",
    "        return self.occupied\n",
    "\n",
    "\n",
    "# The world the agents move around in. Agents can see if other spots are occupied or not and thus infer where other agents are\n",
    "worldMat = [\n",
    "    [DropoffLoc(False,5), RegularLoc(False),  RegularLoc(True),  RegularLoc(False),  PickupLoc(False,5) ],\n",
    "    [RegularLoc(False),   RegularLoc(False),  RegularLoc(False), PickupLoc(False,5), RegularLoc(False)  ],\n",
    "    [DropoffLoc(False,5), RegularLoc(False),  RegularLoc(True),  RegularLoc(False),  RegularLoc(False)  ],\n",
    "    [RegularLoc(False),   RegularLoc(False),  RegularLoc(False), RegularLoc(False),  DropoffLoc(False,5)],\n",
    "    [RegularLoc(False),   PickupLoc(False,5), RegularLoc(True),  RegularLoc(False),  RegularLoc(False)  ],\n",
    "]\n"
   ]
  },
  {
   "cell_type": "markdown",
   "metadata": {},
   "source": []
  }
 ],
 "metadata": {
  "kernelspec": {
   "display_name": "Python 3",
   "language": "python",
   "name": "python3"
  },
  "language_info": {
   "codemirror_mode": {
    "name": "ipython",
    "version": 3
   },
   "file_extension": ".py",
   "mimetype": "text/x-python",
   "name": "python",
   "nbconvert_exporter": "python",
   "pygments_lexer": "ipython3",
   "version": "3.11.3"
  }
 },
 "nbformat": 4,
 "nbformat_minor": 2
}
